{
 "cells": [
  {
   "cell_type": "markdown",
   "id": "0b38d53a",
   "metadata": {},
   "source": [
    "# PP-Human赋能社区智能精细化管理\n",
    "\n",
    "社区是城市的关键组成部分，社区治理是围绕社区场景下的人、地、物、情、事的管理与服务。\n",
    "\n",
    "随着城市化的快速推进及人口流动的快速增加，传统社区治理在人员出入管控、安防巡逻、车辆停放管理等典型场景下都面临着人力不足、效率低下、响应不及时等诸多难题。而人工智能技术代替人力，实现人、车、事的精准治理，大幅降低人力、物质、时间等成本，以最低成本发挥最强大的管理效能，有效推动城市治理向更“数字化、自动化、智慧化”的方向演进。\n",
    "\n",
    "百度飞桨针对智慧社区中的典型场景，提供了**实时行人分析工具PP-Human**，基于行人检测与跟踪，实现**26种人体属性分析以及摔倒等异常行为识别**。\n",
    "\n",
    "<div align=\"center\">\n",
    "  <img src=\"attachment:57d24c53-887f-4767-b103-2d60d1071369.png\" width=\"700\"/>\n",
    "</div>\n",
    "\n",
    "**详细文档可参考：https://github.com/PaddlePaddle/PaddleDetection/tree/develop/deploy/pphuman**\n",
    "\n",
    "\n",
    "## 项目背景\n",
    "### 场景一：社区人员信息管理\n",
    "\n",
    "传统社区视频监控80%都依靠人工实现，随着摄像头在社区中的大规模普及，日超千兆的视频图像数据、人员信息的日渐繁杂已远超人工的负荷。\n",
    "\n",
    "因此，上海天覆科技灵活应用飞桨行人分析PP-Human中的人体跟踪和属性识别算法实现社区视频监控的结构化留痕，实时识别进出小区的人员的**性别、年龄、衣着打扮等26种属性并记录其运动轨迹**，实现**AI算法完全代替人力**，高效、准确地完成**出入口管理、快速寻人、轨迹分析**等任务。\n",
    "\n",
    "<div align=\"center\">\n",
    "  <img src=\"https://user-images.githubusercontent.com/48054808/159898428-5bda0831-7249-4889-babd-9165f26f664d.gif\" width=\"700\"/>\n",
    "  <br>\n",
    "  街道人员属性识别\n",
    "</div>\n",
    "\n",
    "## 场景二：摔倒识别\n",
    "社区的安全防护是重中之重，如何高效保障社区居民人身安全成为一大难题，传统的方式以人工视频监控为主，人力巡逻为辅，往往面临异常情况响应不及时、人力消耗极大的问题。\n",
    "\n",
    "飞桨行人分析PP-Human中提供的摔倒识别算法，采用了**关键点+时空图卷积网络**的技术，**对摔倒姿势无限制、背景环境无要求**，助力多家安防龙头企业实现了不同方向、不同姿态、不同光照情况下40毫秒的实时摔倒识别，避免因人力监管不到位造成的救援拖延，完成社区安防系统智能化的全面转型。\n",
    "\n",
    "<div align=\"center\">\n",
    "  <img src=\"https://user-images.githubusercontent.com/48054808/159898395-061cdca2-a076-46ac-9251-9d2ca9fcb8a4.gif\" width=\"700\"/>\n",
    "  <br>\n",
    "  办公区域摔倒检测\n",
    "</div>\n",
    "\n",
    "#### 接下来将手把手带您使用PP-Human实现以上两个场景！\n",
    "\n",
    "## 安装\n",
    "\n",
    "使用的Docker环境可以快速上手体验，我们为您提供了CPU和GPU版本的镜像。"
   ]
  },
  {
   "cell_type": "markdown",
   "id": "1784a162",
   "metadata": {},
   "source": [
    "**使用CPU版本的Docker镜像**\n",
    "\n",
    "```bash\n",
    "docker run --name pphuman -v $PWD:/mnt -p 8888:8888 -it registry.baidubce.com/paddleflow-public/paddledetection:2.4 /bin/bash\n",
    "```\n",
    "\n",
    "**使用GPU版本的Docker镜像**\n",
    "\n",
    "```bash\n",
    "docker run --name pphuman --runtime=nvidia -v $PWD:/mnt -it registry.baidubce.com/paddleflow-public/paddledetection:2.4-gpu-cuda10.2-cudnn7 /bin/bash\n",
    "```"
   ]
  },
  {
   "cell_type": "markdown",
   "id": "359ac6b7",
   "metadata": {},
   "source": [
    "## 下载对应模型\n",
    "\n",
    "场景一社区人员信息留存涉及模型：目标检测、属性识别\n",
    "\n",
    "场景二人员摔倒涉及模型：目标检测、关键点检测、行为识别\n",
    "\n",
    "其中，属性分析包含26种不同属性：\n",
    "```\n",
    "- 性别：男、女\n",
    "- 年龄：小于18、18-60、大于60\n",
    "- 朝向：朝前、朝后、侧面\n",
    "- 配饰：眼镜、帽子、无\n",
    "- 正面持物：是、否\n",
    "- 包：双肩包、单肩包、手提包\n",
    "- 上衣风格：带条纹、带logo、带格子、拼接风格\n",
    "- 下装风格：带条纹、带图案\n",
    "- 短袖上衣：是、否\n",
    "- 长袖上衣：是、否\n",
    "- 长外套：是、否\n",
    "- 长裤：是、否\n",
    "- 短裤：是、否\n",
    "- 短裙&裙子：是、否\n",
    "- 穿靴：是、否\n",
    "```\n",
    "行为识别目前仅支持摔倒，后续会补齐打架、抽烟、玩手机、睡觉等异常行为检测。\n",
    "\n",
    "接下来，逐一下载上述模型。"
   ]
  },
  {
   "cell_type": "code",
   "execution_count": null,
   "id": "56ddb0c3",
   "metadata": {},
   "outputs": [],
   "source": [
    "#下载检测模型\n",
    "!wget https://bj.bcebos.com/v1/paddledet/models/pipeline/mot_ppyoloe_l_36e_pipeline.zip\n",
    "\n",
    "#下载属性模型\n",
    "!wget https://bj.bcebos.com/v1/paddledet/models/pipeline/strongbaseline_r50_30e_pa100k.zip\n",
    "\n",
    "#下载关键点模型\n",
    "!wget https://bj.bcebos.com/v1/paddledet/models/pipeline/dark_hrnet_w32_256x192.zip\n",
    "\n",
    "#下载行为识别模型\n",
    "!wget https://bj.bcebos.com/v1/paddledet/models/pipeline/STGCN.zip\n",
    "\n",
    "#解压至./output_inference文件夹\n",
    "!unzip -d output_inference mot_ppyoloe_l_36e_pipeline.zip\n",
    "!unzip -d output_inference strongbaseline_r50_30e_pa100k.zip\n",
    "!unzip -d output_inference dark_hrnet_w32_256x192.zip\n",
    "!unzip -d output_inference STGCN.zip"
   ]
  },
  {
   "cell_type": "markdown",
   "id": "256c122e",
   "metadata": {},
   "source": [
    "## 下载示例数据\n",
    "\n",
    "本案例提供了一些示例数据，用于测试模型效果，您也可以使用自己的数据来体验下。"
   ]
  },
  {
   "cell_type": "code",
   "execution_count": null,
   "id": "3e1ca230",
   "metadata": {},
   "outputs": [],
   "source": [
    "# 切换目录到挂盘路径/mnt，下载示例数据包并解压\n",
    "!cd /mnt && wget https://paddleflow-public.hkg.bcebos.com/ppdet/pphuman.zip && unzip pphuman.zip"
   ]
  },
  {
   "cell_type": "markdown",
   "id": "48ebfd17",
   "metadata": {},
   "source": [
    "## 配置文件说明\n",
    "\n",
    "PP-Human相关配置位于`deploy/pphuman/config/infer_cfg.yml`中，存放模型路径，完成不同功能需要设置不同的任务类型。\n",
    "\n",
    "功能及任务类型对应表单如下：\n",
    "\n",
    "| 输入类型 | 功能 | 任务类型 | 配置项 |\n",
    "|-------|-------|----------|-----|\n",
    "| 图片 | 属性识别 | 目标检测 属性识别 | DET ATTR |\n",
    "| 单镜头视频 | 属性识别 | 多目标跟踪 属性识别 | MOT ATTR |\n",
    "| 单镜头视频 | 行为识别 | 多目标跟踪 关键点检测 行为识别 | MOT KPT ACTION |\n",
    "\n",
    "本项目应用到的是：\n",
    "- 社区人员信息留存：单镜头视频或图片输入的属性识别\n",
    "- 摔倒检测：单镜头视频输入的摔倒识别\n",
    "\n",
    "### **本次项目不需要修改配置文件信息，可通过模型预测时的参数选择对应任务。**"
   ]
  },
  {
   "cell_type": "markdown",
   "id": "8af14f78",
   "metadata": {},
   "source": [
    "## 模型预测\n",
    "\n",
    "选取视频样本进行属性识别与摔倒检测。\n",
    "\n",
    "模型预测参数选择分为两部分：\n",
    "- 功能选择：将对应参数设置为True\n",
    "    - 属性识别：enable_attr\n",
    "    - 行为识别：enable_action\n",
    "- 模型路径修改：设置对应任务(DET, MOT, ATTR, KPT, ACTION)的模型路径\n",
    "    - 例如 图片输入的属性识别：\n",
    "\n",
    "``` \n",
    "--model_dir det=output_inference/mot_ppyoloe_l_36e_pipeline/ attr=output_inference/strongbaseline_r50_30e_pa100k/\n",
    "``` "
   ]
  },
  {
   "cell_type": "markdown",
   "id": "2e64b8ce",
   "metadata": {},
   "source": [
    "### 场景一：社区人员信息留存\n",
    "\n",
    "支持开发者根据具体情况选择**视频**或**单帧图片**输入进行属性识别。\n",
    "\n",
    "注意事项：\n",
    "- video_file or image_dir后是输入视频or图片的路径，开发者可上传自己的数据集进行尝试"
   ]
  },
  {
   "cell_type": "code",
   "execution_count": null,
   "id": "65eea6f4",
   "metadata": {},
   "outputs": [],
   "source": [
    "# 视频行人属性识别\n",
    "!python deploy/pphuman/pipeline.py \\\n",
    "    --config deploy/pphuman/config/infer_cfg.yml \\\n",
    "    --model_dir mot=output_inference/mot_ppyoloe_l_36e_pipeline/ attr=output_inference/strongbaseline_r50_30e_pa100k/ \\\n",
    "    --video_file=/mnt/pphuman/attr.mp4 \\\n",
    "    --enable_attr=True \\\n",
    "    --device=cpu"
   ]
  },
  {
   "cell_type": "code",
   "execution_count": null,
   "id": "5617de5f",
   "metadata": {},
   "outputs": [],
   "source": [
    "# 图片行人属性识别\n",
    "!python deploy/pphuman/pipeline.py \\\n",
    "    --config deploy/pphuman/config/infer_cfg.yml \\\n",
    "    --model_dir det=output_inference/mot_ppyoloe_l_36e_pipeline/ attr=output_inference/strongbaseline_r50_30e_pa100k/ \\\n",
    "    --image_dir=/mnt/pphuman/img \\\n",
    "    --enable_attr=True \\\n",
    "    --device=cpu"
   ]
  },
  {
   "cell_type": "markdown",
   "id": "d346ae6f",
   "metadata": {},
   "source": [
    "### 场景二：摔倒检测"
   ]
  },
  {
   "cell_type": "code",
   "execution_count": null,
   "id": "13d52045",
   "metadata": {},
   "outputs": [],
   "source": [
    "# 摔倒检测\n",
    "!python deploy/pphuman/pipeline.py \\\n",
    "    --config deploy/pphuman/config/infer_cfg.yml \\\n",
    "    --model_dir mot=output_inference/mot_ppyoloe_l_36e_pipeline/ kpt=output_inference/dark_hrnet_w32_256x192/ action=output_inference/STGCN \\\n",
    "    --video_file=/mnt/pphuman/fall.mp4 \\\n",
    "    --enable_action=True \\\n",
    "    --device=cpu"
   ]
  },
  {
   "cell_type": "markdown",
   "id": "54364cb5",
   "metadata": {},
   "source": [
    "## 更多资源\n",
    "\n",
    "飞桨目标检测开发套件PaddleDetection，内置190个主流目标检测、实例分割、跟踪、关键点检测算法，其中包括服务器端和移动端产业级SOTA模型、冠军方案和学术前沿算法，并提供配置化的网络模块组件、十余种数据增强策略和损失函数等高阶优化支持和多种部署方案，在打通数据处理、模型开发、训练、压缩、部署全流程的基础上，提供丰富的案例及教程，加速算法产业落地应用。\n",
    "\n",
    "<div align=\"center\">\n",
    "  <img src=\"attachment:3cef1314-c8b4-48f4-a405-dde8018f9a1b.png\" width=\"700\"/>\n",
    "</div>\n",
    "\n",
    "- 如果你发现任何PaddleDetection存在的问题或者是建议, 欢迎通过[GitHub Issues](https://github.com/PaddlePaddle/PaddleDetection/issues)给我们提issues。\n",
    "\n",
    "- 欢迎加入PaddleDetection QQ、微信（添加并回复小助手“检测”）用户群\n",
    "\n",
    "<div align=\"center\">\n",
    "<img src=\"https://user-images.githubusercontent.com/48054808/157800129-2f9a0b72-6bb8-4b10-8310-93ab1639253f.jpg\"  width = \"190\" />  \n",
    "<img src=\"https://user-images.githubusercontent.com/48054808/157800287-a4fced21-2821-4e55-8fd6-6aae167122c2.png\"  width = \"200\" />  \n",
    "</div>"
   ]
  }
 ],
 "metadata": {
  "kernelspec": {
   "display_name": "Python 3 (ipykernel)",
   "language": "python",
   "name": "python3"
  },
  "language_info": {
   "codemirror_mode": {
    "name": "ipython",
    "version": 3
   },
   "file_extension": ".py",
   "mimetype": "text/x-python",
   "name": "python",
   "nbconvert_exporter": "python",
   "pygments_lexer": "ipython3",
   "version": "3.7.12"
  }
 },
 "nbformat": 4,
 "nbformat_minor": 5
}
